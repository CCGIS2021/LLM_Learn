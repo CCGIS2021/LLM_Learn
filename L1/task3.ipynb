{
 "cells": [
  {
   "cell_type": "code",
   "execution_count": 2,
   "metadata": {},
   "outputs": [
    {
     "name": "stderr",
     "output_type": "stream",
     "text": [
      "d:\\ProgramFiles\\Anaconda\\lib\\site-packages\\requests\\__init__.py:102: RequestsDependencyWarning: urllib3 (1.26.15) or chardet (5.2.0)/charset_normalizer (2.0.4) doesn't match a supported version!\n",
      "  warnings.warn(\"urllib3 ({}) or chardet ({})/charset_normalizer ({}) doesn't match a supported \"\n"
     ]
    }
   ],
   "source": [
    "import requests\n",
    "import re"
   ]
  },
  {
   "cell_type": "code",
   "execution_count": 3,
   "metadata": {},
   "outputs": [
    {
     "name": "stdout",
     "output_type": "stream",
     "text": [
      "{\"id\":\"1\",\"object\":\"chat.completion\",\"created\":1724559925,\"model\":\"/share/new_models/Shanghai_AI_Laboratory/internlm2-chat-1_8b\",\"choices\":[{\"index\":0,\"message\":{\"role\":\"assistant\",\"content\":\"我是一个致力于通过执行常见的基于语言的任务和提供建议来帮助人类的AI助手。我使用了Transformer模型和深度学习技术，并且使用语言模型作为预训练任务。我被训练成可以遵循自然语言指令执行各种自然语言处理任务。我致力于通过执行常见的基于语言的任务和提供建议来帮助人类，比如回答问题、提供定义和解释、将文本从一种语言翻译成另一种语言、总结文本、生成文本、编写故事、分析情感、提供推荐、开发算法、编写代码以及其他任何基于语言的任务。\",\"tool_calls\":null},\"logprobs\":null,\"finish_reason\":\"stop\"}],\"usage\":{\"prompt_tokens\":13,\"total_tokens\":123,\"completion_tokens\":110}}\n"
     ]
    }
   ],
   "source": [
    "text = [\n",
    " {\"role\": \"system\", \"content\": \"请介绍一下你自己\"}\n",
    "  ]\n",
    "\n",
    "url = \"http://127.0.0.1:23333/v1/chat/completions\"\n",
    "headers = {\"Content-Type\": \"application/json\",\n",
    "           'Authorization': 'internlm2',}\n",
    "data = {\n",
    "    \"model\": \"/share/new_models/Shanghai_AI_Laboratory/internlm2-chat-1_8b\",\n",
    "    \"messages\": text,\n",
    "    \"max_tokens\": 200,\n",
    "    \"stream\": False\n",
    "}\n",
    "\n",
    "# 发送 POST 请求\n",
    "response = requests.post(url, headers=headers, json=data)\n",
    "print(response.text)"
   ]
  },
  {
   "cell_type": "code",
   "execution_count": null,
   "metadata": {},
   "outputs": [],
   "source": []
  }
 ],
 "metadata": {
  "kernelspec": {
   "display_name": "base",
   "language": "python",
   "name": "python3"
  },
  "language_info": {
   "codemirror_mode": {
    "name": "ipython",
    "version": 3
   },
   "file_extension": ".py",
   "mimetype": "text/x-python",
   "name": "python",
   "nbconvert_exporter": "python",
   "pygments_lexer": "ipython3",
   "version": "3.8.8"
  }
 },
 "nbformat": 4,
 "nbformat_minor": 2
}
